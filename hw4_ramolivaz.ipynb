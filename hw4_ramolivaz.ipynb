{
 "cells": [
  {
   "cell_type": "markdown",
   "id": "4943f5f66317a94b",
   "metadata": {},
   "source": [
    "# ISE529 Predictive Analytics\n",
    "**Homework #4**\n",
    "\n",
    "**Student Name:** `André Ramolivaz` <br>\n",
    "**NetID:** `3933665317` <br>\n",
    "**Due Date:** `2025-06-17`"
   ]
  },
  {
   "cell_type": "markdown",
   "id": "6b8aba59a87a8578",
   "metadata": {},
   "source": [
    "### Setup\n",
    "Import all required packages below."
   ]
  },
  {
   "cell_type": "code",
   "id": "fbc121e30a2defb3",
   "metadata": {
    "ExecuteTime": {
     "end_time": "2025-06-16T01:37:37.801516Z",
     "start_time": "2025-06-16T01:37:37.771134Z"
    }
   },
   "source": [
    "import warnings\n",
    "warnings.filterwarnings('ignore')\n",
    "import numpy as np\n",
    "import pandas as pd\n",
    "import statsmodels.api as sm\n",
    "from sklearn.model_selection import train_test_split\n",
    "from sklearn.ensemble import RandomForestRegressor\n",
    "from sklearn.metrics import mean_squared_error\n",
    "from sklearn.ensemble import GradientBoostingClassifier\n",
    "from sklearn.preprocessing import LabelEncoder\n",
    "from sklearn.metrics import confusion_matrix"
   ],
   "outputs": [],
   "execution_count": 31
  },
  {
   "cell_type": "markdown",
   "id": "c04b0fee29c0035a",
   "metadata": {},
   "source": [
    "---\n",
    "## Question 1\n",
    "*25 points*\n",
    "![Logo Python](16.png)\n"
   ]
  },
  {
   "metadata": {},
   "cell_type": "markdown",
   "source": "**(a)**",
   "id": "e15a4cb7718306f7"
  },
  {
   "metadata": {
    "ExecuteTime": {
     "end_time": "2025-06-15T16:33:30.656063Z",
     "start_time": "2025-06-15T16:33:30.539780Z"
    }
   },
   "cell_type": "code",
   "source": [
    "df = pd.read_csv('Default.csv')\n",
    "\n",
    "df['default_binary'] = (df['default'].str.lower() == 'yes').astype(int)\n",
    "\n",
    "X = sm.add_constant(df[['income', 'balance']])\n",
    "y = df['default_binary']\n",
    "\n",
    "model = sm.GLM(y, X, family=sm.families.Binomial()).fit()\n",
    "\n",
    "results_df = pd.DataFrame({\n",
    "    'Coefficient': model.params,\n",
    "    'Std. Error': model.bse\n",
    "})\n",
    "\n",
    "print(model.summary())\n",
    "results_df"
   ],
   "id": "87f6e65a9ee871a6",
   "outputs": [
    {
     "name": "stdout",
     "output_type": "stream",
     "text": [
      "                 Generalized Linear Model Regression Results                  \n",
      "==============================================================================\n",
      "Dep. Variable:         default_binary   No. Observations:                10000\n",
      "Model:                            GLM   Df Residuals:                     9997\n",
      "Model Family:                Binomial   Df Model:                            2\n",
      "Link Function:                  Logit   Scale:                          1.0000\n",
      "Method:                          IRLS   Log-Likelihood:                -789.48\n",
      "Date:                Sun, 15 Jun 2025   Deviance:                       1579.0\n",
      "Time:                        09:33:30   Pearson chi2:                 6.95e+03\n",
      "No. Iterations:                     9   Pseudo R-squ. (CS):             0.1256\n",
      "Covariance Type:            nonrobust                                         \n",
      "==============================================================================\n",
      "                 coef    std err          z      P>|z|      [0.025      0.975]\n",
      "------------------------------------------------------------------------------\n",
      "const        -11.5405      0.435    -26.544      0.000     -12.393     -10.688\n",
      "income      2.081e-05   4.99e-06      4.174      0.000     1.1e-05    3.06e-05\n",
      "balance        0.0056      0.000     24.835      0.000       0.005       0.006\n",
      "==============================================================================\n"
     ]
    },
    {
     "data": {
      "text/plain": [
       "         Coefficient  Std. Error\n",
       "const     -11.540468    0.434772\n",
       "income      0.000021    0.000005\n",
       "balance     0.005647    0.000227"
      ],
      "text/html": [
       "<div>\n",
       "<style scoped>\n",
       "    .dataframe tbody tr th:only-of-type {\n",
       "        vertical-align: middle;\n",
       "    }\n",
       "\n",
       "    .dataframe tbody tr th {\n",
       "        vertical-align: top;\n",
       "    }\n",
       "\n",
       "    .dataframe thead th {\n",
       "        text-align: right;\n",
       "    }\n",
       "</style>\n",
       "<table border=\"1\" class=\"dataframe\">\n",
       "  <thead>\n",
       "    <tr style=\"text-align: right;\">\n",
       "      <th></th>\n",
       "      <th>Coefficient</th>\n",
       "      <th>Std. Error</th>\n",
       "    </tr>\n",
       "  </thead>\n",
       "  <tbody>\n",
       "    <tr>\n",
       "      <th>const</th>\n",
       "      <td>-11.540468</td>\n",
       "      <td>0.434772</td>\n",
       "    </tr>\n",
       "    <tr>\n",
       "      <th>income</th>\n",
       "      <td>0.000021</td>\n",
       "      <td>0.000005</td>\n",
       "    </tr>\n",
       "    <tr>\n",
       "      <th>balance</th>\n",
       "      <td>0.005647</td>\n",
       "      <td>0.000227</td>\n",
       "    </tr>\n",
       "  </tbody>\n",
       "</table>\n",
       "</div>"
      ]
     },
     "execution_count": 12,
     "metadata": {},
     "output_type": "execute_result"
    }
   ],
   "execution_count": 12
  },
  {
   "metadata": {},
   "cell_type": "markdown",
   "source": [
    "| Term        | Estimate      | Std. Error | z-value | p-value |\n",
    "|-------------|---------------|------------|---------|---------|\n",
    "| Intercept   | −11.5405      | **0.4348** | −26.54  | < 0.001 |\n",
    "| income      | 2.08 × 10⁻⁵   | **4.99 × 10⁻⁶** |  4.17   | < 0.001 |\n",
    "| balance     | 0.00565       | **2.27 × 10⁻⁴** | 24.84   | < 0.001 |\n",
    "\n",
    "\n",
    "* **income** – A one-dollar increase in annual income (holding balance constant) raises the log-odds of default by roughly 2.08 × 10⁻⁵: statistically significant but economically small.\n",
    "* **balance** – Each additional dollar of credit-card balance increases the log-odds of default by about 0.00565, a much stronger effect.\n",
    "* The tiny standard errors reflect the precision afforded by the large sample (n = 10 000).\n"
   ],
   "id": "bec850182dff1010"
  },
  {
   "metadata": {},
   "cell_type": "markdown",
   "source": "**(b)**",
   "id": "d9983dcb0689038c"
  },
  {
   "metadata": {
    "ExecuteTime": {
     "end_time": "2025-06-15T16:23:55.262028Z",
     "start_time": "2025-06-15T16:23:55.249200Z"
    }
   },
   "cell_type": "code",
   "source": [
    "def boot_fn(data: pd.DataFrame, idx: np.ndarray) -> np.ndarray:\n",
    "    sample = data.iloc[idx].copy()\n",
    "\n",
    "    sample[\"default_bin\"] = (sample[\"default\"].str.lower() == \"yes\").astype(int)\n",
    "\n",
    "    X = sm.add_constant(sample[[\"income\", \"balance\"]])\n",
    "    y = sample[\"default_bin\"]\n",
    "\n",
    "    model = sm.GLM(y, X, family=sm.families.Binomial()).fit()\n",
    "    return model.params[[\"income\", \"balance\"]].values"
   ],
   "id": "2dff4a5ccf67696e",
   "outputs": [],
   "execution_count": 6
  },
  {
   "metadata": {},
   "cell_type": "markdown",
   "source": "**(c)**",
   "id": "e6476ccd21e5855d"
  },
  {
   "metadata": {
    "ExecuteTime": {
     "end_time": "2025-06-15T16:28:56.622697Z",
     "start_time": "2025-06-15T16:28:25.307077Z"
    }
   },
   "cell_type": "code",
   "source": [
    "B = 1000\n",
    "n = len(df)\n",
    "np.random.seed(0)\n",
    "\n",
    "boot_coefs = np.empty((B, 2))\n",
    "for b in range(B):\n",
    "    indices = np.random.choice(n, n, replace=True)\n",
    "    boot_coefs[b] = boot_fn(df, indices)\n",
    "\n",
    "# Standard errors from bootstrap\n",
    "se_income, se_balance = boot_coefs.std(axis=0, ddof=1)\n",
    "print(f\"SE income   : {se_income:.10e}\")\n",
    "print(f\"SE balance  : {se_balance:.10e}\")\n"
   ],
   "id": "f6c0a5e97917be97",
   "outputs": [
    {
     "name": "stdout",
     "output_type": "stream",
     "text": [
      "SE income   : 4.7155561618e-06\n",
      "SE balance  : 2.3628201083e-04\n"
     ]
    }
   ],
   "execution_count": 8
  },
  {
   "metadata": {},
   "cell_type": "markdown",
   "source": [
    "**(d)**\n",
    "\n",
    "Both approaches give almost identical standard errors: the differences are ≲ 5 %, well within the Monte-Carlo noise you expect when bootstrapping only 1 000 resamples.\n",
    "The analytical SEs from sm.GLM() come from the large-sample (Fisher-information) theory of maximum-likelihood estimators. With n = 10 000 and a correctly specified model (logit link, independent observations), those asymptotic formulas are already very accurate, so resampling adds little new information.\n",
    "\n",
    "For income the bootstrap SE is slightly smaller; for balance slightly larger. Such tiny shifts are typical random variation—if increase B or change the seed, the gap will fluctuate around zero.\n",
    "\n",
    "Bootstrap is most useful when the sample is small, the likelihood assumptions are doubtful (heavy tails, dependence, heteroskedasticity), or when is needed SEs for statistics that lack simple formulas."
   ],
   "id": "dc394a43a76edcfa"
  },
  {
   "cell_type": "markdown",
   "id": "508944c591800021",
   "metadata": {},
   "source": [
    "---\n",
    "## Question 2\n",
    "*25 points*\n",
    "![Logo Python](17.png)"
   ]
  },
  {
   "metadata": {},
   "cell_type": "markdown",
   "source": "**(i)**",
   "id": "b6ac9974f1aa1521"
  },
  {
   "metadata": {
    "ExecuteTime": {
     "end_time": "2025-06-15T16:58:05.400135Z",
     "start_time": "2025-06-15T16:58:05.317207Z"
    }
   },
   "cell_type": "code",
   "source": [
    "weekly = pd.read_csv('Weekly.csv')\n",
    "\n",
    "weekly[\"Dir_bin\"] = (weekly[\"Direction\"].str.lower() == \"up\").astype(int)\n",
    "def loocv_fit_without_i(data: pd.DataFrame, i: int) -> sm.GLM:\n",
    "\n",
    "    train_mask = data.index != i\n",
    "\n",
    "    X_train = sm.add_constant(\n",
    "        data.loc[train_mask, [\"Lag1\", \"Lag2\"]],\n",
    "        has_constant=\"add\"\n",
    "    )\n",
    "    y_train = data.loc[train_mask, \"Dir_bin\"]\n",
    "\n",
    "    model_i = sm.GLM(y_train, X_train, family=sm.families.Binomial()).fit()\n",
    "\n",
    "    return model_i\n",
    "\n",
    "# Example: fit the model leaving out the 42-nd observation\n",
    "model_42 = loocv_fit_without_i(weekly, i=42)\n",
    "model_42.summary()\n"
   ],
   "id": "163e9e6cb5a24b67",
   "outputs": [
    {
     "data": {
      "text/plain": [
       "<class 'statsmodels.iolib.summary.Summary'>\n",
       "\"\"\"\n",
       "                 Generalized Linear Model Regression Results                  \n",
       "==============================================================================\n",
       "Dep. Variable:                Dir_bin   No. Observations:                 1088\n",
       "Model:                            GLM   Df Residuals:                     1085\n",
       "Model Family:                Binomial   Df Model:                            2\n",
       "Link Function:                  Logit   Scale:                          1.0000\n",
       "Method:                          IRLS   Log-Likelihood:                -743.46\n",
       "Date:                Sun, 15 Jun 2025   Deviance:                       1486.9\n",
       "Time:                        09:58:05   Pearson chi2:                 1.09e+03\n",
       "No. Iterations:                     4   Pseudo R-squ. (CS):           0.007418\n",
       "Covariance Type:            nonrobust                                         \n",
       "==============================================================================\n",
       "                 coef    std err          z      P>|z|      [0.025      0.975]\n",
       "------------------------------------------------------------------------------\n",
       "const          0.2195      0.061      3.570      0.000       0.099       0.340\n",
       "Lag1          -0.0394      0.026     -1.502      0.133      -0.091       0.012\n",
       "Lag2           0.0605      0.027      2.277      0.023       0.008       0.113\n",
       "==============================================================================\n",
       "\"\"\""
      ],
      "text/html": [
       "<table class=\"simpletable\">\n",
       "<caption>Generalized Linear Model Regression Results</caption>\n",
       "<tr>\n",
       "  <th>Dep. Variable:</th>        <td>Dir_bin</td>     <th>  No. Observations:  </th>  <td>  1088</td> \n",
       "</tr>\n",
       "<tr>\n",
       "  <th>Model:</th>                  <td>GLM</td>       <th>  Df Residuals:      </th>  <td>  1085</td> \n",
       "</tr>\n",
       "<tr>\n",
       "  <th>Model Family:</th>        <td>Binomial</td>     <th>  Df Model:          </th>  <td>     2</td> \n",
       "</tr>\n",
       "<tr>\n",
       "  <th>Link Function:</th>         <td>Logit</td>      <th>  Scale:             </th> <td>  1.0000</td>\n",
       "</tr>\n",
       "<tr>\n",
       "  <th>Method:</th>                <td>IRLS</td>       <th>  Log-Likelihood:    </th> <td> -743.46</td>\n",
       "</tr>\n",
       "<tr>\n",
       "  <th>Date:</th>            <td>Sun, 15 Jun 2025</td> <th>  Deviance:          </th> <td>  1486.9</td>\n",
       "</tr>\n",
       "<tr>\n",
       "  <th>Time:</th>                <td>09:58:05</td>     <th>  Pearson chi2:      </th> <td>1.09e+03</td>\n",
       "</tr>\n",
       "<tr>\n",
       "  <th>No. Iterations:</th>          <td>4</td>        <th>  Pseudo R-squ. (CS):</th> <td>0.007418</td>\n",
       "</tr>\n",
       "<tr>\n",
       "  <th>Covariance Type:</th>     <td>nonrobust</td>    <th>                     </th>     <td> </td>   \n",
       "</tr>\n",
       "</table>\n",
       "<table class=\"simpletable\">\n",
       "<tr>\n",
       "    <td></td>       <th>coef</th>     <th>std err</th>      <th>z</th>      <th>P>|z|</th>  <th>[0.025</th>    <th>0.975]</th>  \n",
       "</tr>\n",
       "<tr>\n",
       "  <th>const</th> <td>    0.2195</td> <td>    0.061</td> <td>    3.570</td> <td> 0.000</td> <td>    0.099</td> <td>    0.340</td>\n",
       "</tr>\n",
       "<tr>\n",
       "  <th>Lag1</th>  <td>   -0.0394</td> <td>    0.026</td> <td>   -1.502</td> <td> 0.133</td> <td>   -0.091</td> <td>    0.012</td>\n",
       "</tr>\n",
       "<tr>\n",
       "  <th>Lag2</th>  <td>    0.0605</td> <td>    0.027</td> <td>    2.277</td> <td> 0.023</td> <td>    0.008</td> <td>    0.113</td>\n",
       "</tr>\n",
       "</table>"
      ],
      "text/latex": "\\begin{center}\n\\begin{tabular}{lclc}\n\\toprule\n\\textbf{Dep. Variable:}   &     Dir\\_bin     & \\textbf{  No. Observations:  } &     1088    \\\\\n\\textbf{Model:}           &       GLM        & \\textbf{  Df Residuals:      } &     1085    \\\\\n\\textbf{Model Family:}    &     Binomial     & \\textbf{  Df Model:          } &        2    \\\\\n\\textbf{Link Function:}   &      Logit       & \\textbf{  Scale:             } &    1.0000   \\\\\n\\textbf{Method:}          &       IRLS       & \\textbf{  Log-Likelihood:    } &   -743.46   \\\\\n\\textbf{Date:}            & Sun, 15 Jun 2025 & \\textbf{  Deviance:          } &    1486.9   \\\\\n\\textbf{Time:}            &     09:58:05     & \\textbf{  Pearson chi2:      } &  1.09e+03   \\\\\n\\textbf{No. Iterations:}  &        4         & \\textbf{  Pseudo R-squ. (CS):} &  0.007418   \\\\\n\\textbf{Covariance Type:} &    nonrobust     & \\textbf{                     } &             \\\\\n\\bottomrule\n\\end{tabular}\n\\begin{tabular}{lcccccc}\n               & \\textbf{coef} & \\textbf{std err} & \\textbf{z} & \\textbf{P$> |$z$|$} & \\textbf{[0.025} & \\textbf{0.975]}  \\\\\n\\midrule\n\\textbf{const} &       0.2195  &        0.061     &     3.570  &         0.000        &        0.099    &        0.340     \\\\\n\\textbf{Lag1}  &      -0.0394  &        0.026     &    -1.502  &         0.133        &       -0.091    &        0.012     \\\\\n\\textbf{Lag2}  &       0.0605  &        0.027     &     2.277  &         0.023        &        0.008    &        0.113     \\\\\n\\bottomrule\n\\end{tabular}\n%\\caption{Generalized Linear Model Regression Results}\n\\end{center}"
     },
     "execution_count": 18,
     "metadata": {},
     "output_type": "execute_result"
    }
   ],
   "execution_count": 18
  },
  {
   "metadata": {},
   "cell_type": "markdown",
   "source": "**(ii)**",
   "id": "c178944d693a3d9c"
  },
  {
   "metadata": {
    "ExecuteTime": {
     "end_time": "2025-06-15T16:59:20.718829Z",
     "start_time": "2025-06-15T16:59:20.649659Z"
    }
   },
   "cell_type": "code",
   "source": [
    "def loocv_prob_up_i(model_i: sm.GLM, data: pd.DataFrame, i: int) -> float:\n",
    "\n",
    "    X_test = sm.add_constant(\n",
    "        data.loc[[i], [\"Lag1\", \"Lag2\"]],\n",
    "        has_constant=\"add\"\n",
    "    )\n",
    "\n",
    "    prob_up = model_i.predict(X_test).iloc[0]\n",
    "    return float(prob_up)\n",
    "\n",
    "# Example usage for observation 42\n",
    "model_42 = loocv_fit_without_i(weekly, i=42)\n",
    "\n",
    "# 2. Predict P(Up) for row 42 ← step (ii)\n",
    "p_up_42 = loocv_prob_up_i(model_42, weekly, i=42)\n",
    "print(f\"Predicted P(Up) for observation 42: {p_up_42:.3f}\")"
   ],
   "id": "17e40d95f0a289ac",
   "outputs": [
    {
     "name": "stdout",
     "output_type": "stream",
     "text": [
      "Predicted P(Up) for observation 42: 0.523\n"
     ]
    }
   ],
   "execution_count": 19
  },
  {
   "metadata": {},
   "cell_type": "markdown",
   "source": "**(iii)**",
   "id": "c47b04901cf1b483"
  },
  {
   "metadata": {
    "ExecuteTime": {
     "end_time": "2025-06-15T17:04:19.732604Z",
     "start_time": "2025-06-15T17:04:19.676266Z"
    }
   },
   "cell_type": "code",
   "source": [
    "def loocv_error_i(i: int, data) -> int:\n",
    "\n",
    "    model_i = loocv_fit_without_i(data, i)      # ← fixed: data first, i second\n",
    "\n",
    "    p_up = loocv_prob_up_i(model_i, data, i)\n",
    "\n",
    "    y_hat = 1 if p_up > 0.5 else 0          # predicted class\n",
    "    err_i = int(y_hat != data.loc[i, \"Dir_bin\"])\n",
    "    return err_i\n",
    "\n",
    "# Example: compute Err_42  (0 = correct, 1 = misclassified)\n",
    "\n",
    "err_42 = loocv_error_i(42, weekly)\n",
    "print(f\"Err_42 = {err_42}\")"
   ],
   "id": "264b7e63758f7fcc",
   "outputs": [
    {
     "name": "stdout",
     "output_type": "stream",
     "text": [
      "Err_42 = 0\n"
     ]
    }
   ],
   "execution_count": 21
  },
  {
   "metadata": {},
   "cell_type": "markdown",
   "source": "**(iv)**",
   "id": "d4e67c3eba60b064"
  },
  {
   "metadata": {
    "ExecuteTime": {
     "end_time": "2025-06-15T17:22:53.161710Z",
     "start_time": "2025-06-15T17:22:43.003606Z"
    }
   },
   "cell_type": "code",
   "source": [
    "n = len(weekly)\n",
    "\n",
    "probs   = np.empty(n)\n",
    "y_hat   = np.empty(n, int)\n",
    "y_true  = weekly[\"Dir_bin\"].to_numpy()\n",
    "errors  = np.empty(n, int)\n",
    "\n",
    "for i in range(n):\n",
    "    model_i   = loocv_fit_without_i(weekly, i)     # step (i)\n",
    "    probs[i]  = loocv_prob_up_i(model_i, weekly, i)# step (ii)\n",
    "    y_hat[i]  = int(probs[i] > 0.5)                # step (iii)\n",
    "    errors[i] = int(y_hat[i] != y_true[i])         # step (iii)\n",
    "\n",
    "CV_n = errors.mean()\n",
    "\n",
    "loocv_df = (\n",
    "    pd.DataFrame({\n",
    "        \"Prob_Up\": probs,\n",
    "        \"Pred\": y_hat,\n",
    "        \"Actual\": y_true,\n",
    "        \"Err_i\": errors\n",
    "    })\n",
    "    .assign(Row=lambda d: d.index)\n",
    "    .set_index(\"Row\")\n",
    ")\n",
    "display(loocv_df.head())\n",
    "\n",
    "print(f\"\\nTotale errori   : {errors.sum()} su {n}\")\n",
    "print(f\"LOOCV error rate: {CV_n:.3f}\")\n",
    "\n"
   ],
   "id": "eb3b58fb296ffb4c",
   "outputs": [
    {
     "data": {
      "text/plain": [
       "      Prob_Up  Pred  Actual  Err_i\n",
       "Row                               \n",
       "0    0.571392     1       0      1\n",
       "1    0.570339     1       0      1\n",
       "2    0.574645     1       1      0\n",
       "3    0.480442     0       1      1\n",
       "4    0.598801     1       1      0"
      ],
      "text/html": [
       "<div>\n",
       "<style scoped>\n",
       "    .dataframe tbody tr th:only-of-type {\n",
       "        vertical-align: middle;\n",
       "    }\n",
       "\n",
       "    .dataframe tbody tr th {\n",
       "        vertical-align: top;\n",
       "    }\n",
       "\n",
       "    .dataframe thead th {\n",
       "        text-align: right;\n",
       "    }\n",
       "</style>\n",
       "<table border=\"1\" class=\"dataframe\">\n",
       "  <thead>\n",
       "    <tr style=\"text-align: right;\">\n",
       "      <th></th>\n",
       "      <th>Prob_Up</th>\n",
       "      <th>Pred</th>\n",
       "      <th>Actual</th>\n",
       "      <th>Err_i</th>\n",
       "    </tr>\n",
       "    <tr>\n",
       "      <th>Row</th>\n",
       "      <th></th>\n",
       "      <th></th>\n",
       "      <th></th>\n",
       "      <th></th>\n",
       "    </tr>\n",
       "  </thead>\n",
       "  <tbody>\n",
       "    <tr>\n",
       "      <th>0</th>\n",
       "      <td>0.571392</td>\n",
       "      <td>1</td>\n",
       "      <td>0</td>\n",
       "      <td>1</td>\n",
       "    </tr>\n",
       "    <tr>\n",
       "      <th>1</th>\n",
       "      <td>0.570339</td>\n",
       "      <td>1</td>\n",
       "      <td>0</td>\n",
       "      <td>1</td>\n",
       "    </tr>\n",
       "    <tr>\n",
       "      <th>2</th>\n",
       "      <td>0.574645</td>\n",
       "      <td>1</td>\n",
       "      <td>1</td>\n",
       "      <td>0</td>\n",
       "    </tr>\n",
       "    <tr>\n",
       "      <th>3</th>\n",
       "      <td>0.480442</td>\n",
       "      <td>0</td>\n",
       "      <td>1</td>\n",
       "      <td>1</td>\n",
       "    </tr>\n",
       "    <tr>\n",
       "      <th>4</th>\n",
       "      <td>0.598801</td>\n",
       "      <td>1</td>\n",
       "      <td>1</td>\n",
       "      <td>0</td>\n",
       "    </tr>\n",
       "  </tbody>\n",
       "</table>\n",
       "</div>"
      ]
     },
     "metadata": {},
     "output_type": "display_data"
    },
    {
     "name": "stdout",
     "output_type": "stream",
     "text": [
      "\n",
      "Totale errori   : 490 su 1089\n",
      "LOOCV error rate: 0.450\n"
     ]
    }
   ],
   "execution_count": 23
  },
  {
   "cell_type": "markdown",
   "id": "39b0cb8a9e7bfeb7",
   "metadata": {},
   "source": [
    "---\n",
    "## Question 3\n",
    "*25 points*\n",
    "![Logo Python](18.png)"
   ]
  },
  {
   "metadata": {
    "ExecuteTime": {
     "end_time": "2025-06-15T17:27:19.786961Z",
     "start_time": "2025-06-15T17:27:17.620772Z"
    }
   },
   "cell_type": "code",
   "source": [
    "df = pd.read_csv('Carseats.csv')\n",
    "\n",
    "df_enc = pd.get_dummies(\n",
    "    df,\n",
    "    columns=['ShelveLoc', 'Urban', 'US'],\n",
    "    drop_first=True\n",
    ")\n",
    "\n",
    "X = df_enc.drop('Sales', axis=1)\n",
    "y = df_enc['Sales']\n",
    "\n",
    "X_train, X_test, y_train, y_test = train_test_split(\n",
    "    X, y, test_size=0.30, random_state=1\n",
    ")\n",
    "\n",
    "rf = RandomForestRegressor(\n",
    "    n_estimators=500,     # 500 bootstrap trees\n",
    "    random_state=1,       # reproducibility of bootstrap samples & feature splits\n",
    "    bootstrap=True,       # default; each tree gets a bootstrap sample of rows\n",
    "    oob_score=False       # OOB error not used here\n",
    ")\n",
    "rf.fit(X_train, y_train)\n",
    "\n",
    "\n",
    "y_train_pred = rf.predict(X_train)\n",
    "y_test_pred  = rf.predict(X_test)\n",
    "\n",
    "train_mse = mean_squared_error(y_train, y_train_pred)\n",
    "test_mse  = mean_squared_error(y_test,  y_test_pred)\n",
    "\n",
    "print(f\"Training MSE: {train_mse:.3f}\")\n",
    "print(f\"Test MSE    : {test_mse:.3f}\")\n",
    "\n",
    "\n",
    "importances = pd.Series(\n",
    "    rf.feature_importances_,\n",
    "    index=X.columns\n",
    ").sort_values(ascending=False)\n",
    "\n",
    "print(\"\\nTop 10 features by importance:\")\n",
    "print(importances.head(10))"
   ],
   "id": "c11f7cf927efc6e",
   "outputs": [
    {
     "name": "stdout",
     "output_type": "stream",
     "text": [
      "Training MSE: 0.327\n",
      "Test MSE    : 2.852\n",
      "\n",
      "Top 10 features by importance:\n",
      "Price               0.294173\n",
      "ShelveLoc_Good      0.232180\n",
      "Age                 0.102342\n",
      "CompPrice           0.096213\n",
      "Advertising         0.077246\n",
      "ShelveLoc_Medium    0.070332\n",
      "Income              0.047548\n",
      "Population          0.043278\n",
      "Education           0.027431\n",
      "Urban_Yes           0.005562\n",
      "dtype: float64\n"
     ]
    }
   ],
   "execution_count": 25
  },
  {
   "cell_type": "markdown",
   "id": "d1fc2104ce6a0036",
   "metadata": {},
   "source": [
    "---\n",
    "## Question 4\n",
    "*25 points*\n",
    "![Logo Python](19.png)"
   ]
  },
  {
   "metadata": {},
   "cell_type": "markdown",
   "source": "**(a)**",
   "id": "7a75495dcc6404ee"
  },
  {
   "metadata": {
    "ExecuteTime": {
     "end_time": "2025-06-16T02:04:17.229464Z",
     "start_time": "2025-06-16T02:04:17.038711Z"
    }
   },
   "cell_type": "code",
   "source": [
    "caravan = pd.read_csv(\"Caravan.csv\")\n",
    "\n",
    "train_df = caravan.iloc[:1000].copy()\n",
    "test_df  = caravan.iloc[1000:].copy()\n",
    "\n",
    "print(f\"Training set shape: {train_df.shape}\")\n",
    "print(f\"Test set shape    : {test_df.shape}\")"
   ],
   "id": "bc0643b87676869c",
   "outputs": [
    {
     "name": "stdout",
     "output_type": "stream",
     "text": [
      "Training set shape: (1000, 86)\n",
      "Test set shape    : (4822, 86)\n"
     ]
    }
   ],
   "execution_count": 41
  },
  {
   "metadata": {},
   "cell_type": "markdown",
   "source": "**(b)**",
   "id": "a0b64fd7a326aced"
  },
  {
   "metadata": {
    "ExecuteTime": {
     "end_time": "2025-06-16T02:04:24.449319Z",
     "start_time": "2025-06-16T02:04:18.972835Z"
    }
   },
   "cell_type": "code",
   "source": [
    "X_train = train_df.drop(columns=[\"Purchase\"])\n",
    "X_test  = test_df.drop(columns=[\"Purchase\"])\n",
    "\n",
    "le = LabelEncoder()\n",
    "y_train_bin = le.fit_transform(train_df[\"Purchase\"])  # Yes→1, No→0\n",
    "y_test_bin  = le.transform(test_df[\"Purchase\"])\n",
    "\n",
    "\n",
    "gb = GradientBoostingClassifier(\n",
    "        n_estimators=1000,\n",
    "        learning_rate=0.01,\n",
    "        max_leaf_nodes=5,        # ≈ 4 split for tree\n",
    "        random_state=1\n",
    ")\n",
    "gb.fit(X_train, y_train)\n",
    "\n",
    "importances = (\n",
    "    pd.Series(gb.feature_importances_, index=X_train.columns)\n",
    "      .sort_values(ascending=False)\n",
    ")\n",
    "print(\"\\nTop predictors by importance:\")\n",
    "print(importances.head(15))"
   ],
   "id": "ca78b4e965fe2277",
   "outputs": [
    {
     "name": "stdout",
     "output_type": "stream",
     "text": [
      "\n",
      "Top predictors by importance:\n",
      "MOSTYPE     0.075484\n",
      "PPERSAUT    0.074459\n",
      "MGODGE      0.066166\n",
      "ABRAND      0.055200\n",
      "MKOOPKLA    0.045845\n",
      "MBERMIDD    0.043912\n",
      "PBRAND      0.040271\n",
      "AMOTSCO     0.039088\n",
      "APLEZIER    0.034719\n",
      "PPLEZIER    0.034538\n",
      "MFALLEEN    0.031596\n",
      "MOPLHOOG    0.029480\n",
      "PLEVEN      0.029348\n",
      "MBERARBG    0.023757\n",
      "MSKB1       0.023365\n",
      "dtype: float64\n"
     ]
    }
   ],
   "execution_count": 42
  },
  {
   "metadata": {},
   "cell_type": "markdown",
   "source": "**(c)**",
   "id": "40ac992a131d430e"
  },
  {
   "metadata": {
    "ExecuteTime": {
     "end_time": "2025-06-16T02:05:00.756965Z",
     "start_time": "2025-06-16T02:05:00.605609Z"
    }
   },
   "cell_type": "code",
   "source": [
    "probs  = gb.predict_proba(X_test)[:, 1]      # P(Purchase = \"Yes\")\n",
    "y_pred = (probs > 0.20).astype(int)\n",
    "\n",
    "cm = confusion_matrix(y_test_bin, y_pred, labels=[1, 0])\n",
    "cm_df = pd.DataFrame(\n",
    "    cm,\n",
    "    index=[\"Actual: Yes (1)\", \"Actual: No (0)\"],\n",
    "    columns=[\"Predicted: Yes (1)\", \"Predicted: No (0)\"]\n",
    ")\n",
    "\n",
    "print(\"\\nConfusion matrix (threshold = 20%):\")\n",
    "print(cm_df)"
   ],
   "id": "eea7a53f6d44e34a",
   "outputs": [
    {
     "name": "stdout",
     "output_type": "stream",
     "text": [
      "\n",
      "Confusion matrix (threshold = 20%):\n",
      "                 Predicted: Yes (1)  Predicted: No (0)\n",
      "Actual: Yes (1)                  39                250\n",
      "Actual: No (0)                  181               4352\n"
     ]
    }
   ],
   "execution_count": 43
  }
 ],
 "metadata": {
  "kernelspec": {
   "display_name": "Python 3 (ipykernel)",
   "language": "python",
   "name": "python3"
  },
  "language_info": {
   "codemirror_mode": {
    "name": "ipython",
    "version": 3
   },
   "file_extension": ".py",
   "mimetype": "text/x-python",
   "name": "python",
   "nbconvert_exporter": "python",
   "pygments_lexer": "ipython3",
   "version": "3.9.6"
  }
 },
 "nbformat": 4,
 "nbformat_minor": 5
}
