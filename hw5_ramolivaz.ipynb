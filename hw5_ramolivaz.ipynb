{
 "cells": [
  {
   "cell_type": "markdown",
   "id": "4943f5f66317a94b",
   "metadata": {},
   "source": [
    "# ISE529 Predictive Analytics\n",
    "**Homework #5**\n",
    "\n",
    "**Student Name:** `André Ramolivaz` <br>\n",
    "**NetID:** `3933665317` <br>\n",
    "**Due Date:** `2025-06-26`"
   ]
  },
  {
   "cell_type": "markdown",
   "id": "6b8aba59a87a8578",
   "metadata": {},
   "source": [
    "### Setup\n",
    "Import all required packages below."
   ]
  },
  {
   "cell_type": "code",
   "id": "fbc121e30a2defb3",
   "metadata": {
    "ExecuteTime": {
     "end_time": "2025-06-19T18:39:51.088699Z",
     "start_time": "2025-06-19T18:39:51.078151Z"
    }
   },
   "source": [
    "import warnings\n",
    "warnings.filterwarnings('ignore')\n",
    "import pandas as pd\n",
    "import numpy as np\n",
    "import matplotlib.pyplot as plt\n",
    "from sklearn.linear_model import LassoCV, RidgeCV, LinearRegression\n",
    "from sklearn.decomposition import PCA\n",
    "from sklearn.model_selection import train_test_split, GridSearchCV, cross_val_score, KFold\n",
    "from sklearn.cross_decomposition import PLSRegression\n",
    "from sklearn.metrics import mean_squared_error\n",
    "from sklearn.preprocessing import StandardScaler, OneHotEncoder\n",
    "from sklearn.compose import ColumnTransformer\n",
    "from sklearn.pipeline import Pipeline\n",
    "from sklearn.metrics import accuracy_score, log_loss\n",
    "import tensorflow as tf\n",
    "from tensorflow.keras import layers, models, optimizers, losses"
   ],
   "outputs": [],
   "execution_count": 2
  },
  {
   "cell_type": "markdown",
   "id": "c04b0fee29c0035a",
   "metadata": {},
   "source": [
    "---\n",
    "## Question 1\n",
    "*30 points*\n",
    "![Logo Python](20.png)\n"
   ]
  },
  {
   "metadata": {
    "ExecuteTime": {
     "end_time": "2025-06-19T17:37:03.487431Z",
     "start_time": "2025-06-19T17:37:01.479220Z"
    }
   },
   "cell_type": "code",
   "source": [
    "boston = pd.read_csv(\"Boston.csv\")\n",
    "boston.columns = [c.lower() for c in boston.columns]     # lower-case for convenience\n",
    "\n",
    "y = boston[\"crim\"]\n",
    "X = boston.drop(columns=[\"crim\"])\n",
    "\n",
    "\n",
    "X_train, X_test, y_train, y_test = train_test_split(\n",
    "    X, y, test_size=0.30, random_state=42\n",
    ")\n",
    "\n",
    "# Helper to compute test MSE\n",
    "def mse(model):\n",
    "    return mean_squared_error(y_test, model.predict(X_test))\n",
    "\n",
    "\n",
    "lasso_pipe = Pipeline([\n",
    "    (\"scaler\", StandardScaler()),\n",
    "    (\"lasso\",  LassoCV(cv=5, random_state=42, max_iter=10_000))\n",
    "])\n",
    "lasso_pipe.fit(X_train, y_train)\n",
    "\n",
    "lasso_alpha = lasso_pipe.named_steps[\"lasso\"].alpha_\n",
    "lasso_mse   = mse(lasso_pipe)\n",
    "\n",
    "\n",
    "ridge_pipe = Pipeline([\n",
    "    (\"scaler\", StandardScaler()),\n",
    "    (\"ridge\",  RidgeCV(alphas=np.logspace(-4, 4, 50), cv=5))\n",
    "])\n",
    "ridge_pipe.fit(X_train, y_train)\n",
    "\n",
    "ridge_alpha = ridge_pipe.named_steps[\"ridge\"].alpha_\n",
    "ridge_mse   = mse(ridge_pipe)\n",
    "\n",
    "\n",
    "pcr_pipe = Pipeline([\n",
    "    (\"scaler\", StandardScaler()),\n",
    "    (\"pca\",    PCA()),\n",
    "    (\"ols\",    LinearRegression())\n",
    "])\n",
    "\n",
    "pcr_grid = GridSearchCV(\n",
    "    pcr_pipe,\n",
    "    param_grid={\"pca__n_components\": np.arange(1, X.shape[1] + 1)},\n",
    "    cv=5,\n",
    "    scoring=\"neg_mean_squared_error\"\n",
    ")\n",
    "pcr_grid.fit(X_train, y_train)\n",
    "\n",
    "pcr_m   = pcr_grid.best_params_[\"pca__n_components\"]\n",
    "pcr_mse = mse(pcr_grid.best_estimator_)\n",
    "\n",
    "\n",
    "results = pd.DataFrame({\n",
    "    \"Model\": [\"Lasso\", \"Ridge\", \"PCR\"],\n",
    "    \"Hyper-parameter\": [\n",
    "        f\"α = {lasso_alpha:.4f}\",\n",
    "        f\"α = {ridge_alpha:.4f}\",\n",
    "        f\"M = {pcr_m} PCs\"\n",
    "    ],\n",
    "    \"Test MSE\": [lasso_mse, ridge_mse, pcr_mse]\n",
    "}).round(3)\n",
    "\n",
    "print(results)"
   ],
   "id": "781ba463dcb9e090",
   "outputs": [
    {
     "name": "stdout",
     "output_type": "stream",
     "text": [
      "   Model Hyper-parameter  Test MSE\n",
      "0  Lasso      α = 0.0317    46.890\n",
      "1  Ridge     α = 24.4205    47.233\n",
      "2    PCR      M = 13 PCs    46.731\n"
     ]
    }
   ],
   "execution_count": 2
  },
  {
   "metadata": {},
   "cell_type": "markdown",
   "source": "On this split the three models are virtually tied—PCR posts the lowest test MSE at 46.73, Lasso follows at 46.89, and Ridge at 47.23—differences too small to crown a clear winner. PCR’s edge stems from projecting predictors onto principal components, which eases multicollinearity but hides the meaning of individual coefficients; cross-validation therefore retained all 13 PCs, signalling that every direction in the data still adds useful signal. Lasso, almost as accurate, chose a very mild penalty (α ≈ 0.03) that removes only the weakest variables, yielding a sparse yet interpretable model that spotlights the main crime drivers. Ridge opted for a much heavier penalty (α ≈ 24), shrinking every coefficient without discarding any and exposing strong collinearity among the predictors. Because the errors are so close, these hyper-parameter values are best viewed as sample-specific optima; in practice you would repeat the resampling or use nested CV and then pick the method that matches your priority—interpretability with Lasso, all-features stability with Ridge, or raw predictive focus under multicollinearity with PCR.",
   "id": "fe2a6debcb07cdff"
  },
  {
   "cell_type": "markdown",
   "id": "508944c591800021",
   "metadata": {},
   "source": [
    "---\n",
    "## Question 2\n",
    "*30 points*\n",
    "![Logo Python](21.png)"
   ]
  },
  {
   "metadata": {},
   "cell_type": "markdown",
   "source": "**(a)**",
   "id": "9c821441b3971ffd"
  },
  {
   "metadata": {
    "ExecuteTime": {
     "end_time": "2025-06-19T18:13:51.365106Z",
     "start_time": "2025-06-19T18:13:44.267516Z"
    }
   },
   "cell_type": "code",
   "source": [
    "college = pd.read_csv(\"College.csv\")       # target column is “Apps”\n",
    "college.columns = [c.lower() for c in college.columns]\n",
    "\n",
    "y = college[\"apps\"]\n",
    "X = college.drop(columns=[\"apps\"])\n",
    "\n",
    "cat_cols = [c for c in X.columns if X[c].dtype == \"object\"]\n",
    "num_cols = [c for c in X.columns if c not in cat_cols]\n",
    "\n",
    "preproc_sparse = ColumnTransformer(\n",
    "    [(\"num\", StandardScaler(), num_cols),\n",
    "     (\"cat\", OneHotEncoder(drop=\"first\", handle_unknown=\"ignore\"), cat_cols)]\n",
    ")\n",
    "\n",
    "preproc_dense = ColumnTransformer(\n",
    "    [(\"num\", StandardScaler(), num_cols),\n",
    "     (\"cat\", OneHotEncoder(drop=\"first\",\n",
    "                           handle_unknown=\"ignore\",\n",
    "                           sparse_output=False),   # ← change here\n",
    "      cat_cols)]\n",
    ")\n",
    "\n",
    "\n",
    "X_train, X_test, y_train, y_test = train_test_split(\n",
    "    X, y, test_size=0.40, random_state=42\n",
    ")\n",
    "\n",
    "\n",
    "def mse(model): return mean_squared_error(y_test, model.predict(X_test))\n",
    "\n",
    "\n",
    "ridge = Pipeline([\n",
    "    (\"prep\",  preproc_sparse),\n",
    "    (\"ridge\", RidgeCV(alphas=np.logspace(-4, 4, 100), cv=10))\n",
    "]).fit(X_train, y_train)\n",
    "\n",
    "ridge_alpha = ridge.named_steps[\"ridge\"].alpha_\n",
    "ridge_mse   = mse(ridge)\n",
    "\n",
    "print(f\"Optimal λ (alpha) from CV : {ridge_alpha:.4f}\")\n",
    "print(f\"Test MSE on hold-out set : {ridge_mse:,.1f}\")\n"
   ],
   "id": "3e138f170ce212fd",
   "outputs": [
    {
     "name": "stdout",
     "output_type": "stream",
     "text": [
      "Optimal λ (alpha) from CV : 2.3101\n",
      "Test MSE on hold-out set : 1,616,343.8\n"
     ]
    }
   ],
   "execution_count": 7
  },
  {
   "metadata": {},
   "cell_type": "markdown",
   "source": "**(b)**",
   "id": "c6c2e884cdd69f3"
  },
  {
   "metadata": {
    "ExecuteTime": {
     "end_time": "2025-06-19T18:16:53.871724Z",
     "start_time": "2025-06-19T18:16:49.550250Z"
    }
   },
   "cell_type": "code",
   "source": [
    "lasso = Pipeline([\n",
    "    (\"prep\",  preproc_sparse),                       # same pre-processing as before\n",
    "    (\"lasso\", LassoCV(cv=10,                         # 10-fold CV\n",
    "                      random_state=42,\n",
    "                      max_iter=10_000))\n",
    "]).fit(X_train, y_train)\n",
    "\n",
    "lasso_alpha = lasso.named_steps[\"lasso\"].alpha_\n",
    "lasso_test_mse = mean_squared_error(y_test, lasso.predict(X_test))\n",
    "\n",
    "lasso_coef = lasso.named_steps[\"lasso\"].coef_\n",
    "n_nonzero = np.count_nonzero(lasso_coef)\n",
    "\n",
    "print(f\"Optimal λ (alpha) : {lasso_alpha:.4f}\")\n",
    "print(f\"Test-set MSE      : {lasso_test_mse:,.1f}\")\n",
    "print(f\"Non-zero betas    : {n_nonzero}\")"
   ],
   "id": "5e42caf79f84b18c",
   "outputs": [
    {
     "name": "stdout",
     "output_type": "stream",
     "text": [
      "Optimal λ (alpha) : 3.8768\n",
      "Test-set MSE      : 1,717,195.9\n",
      "Non-zero betas    : 33\n"
     ]
    }
   ],
   "execution_count": 8
  },
  {
   "metadata": {},
   "cell_type": "markdown",
   "source": "**(c)**",
   "id": "41b90523343a90c3"
  },
  {
   "metadata": {
    "ExecuteTime": {
     "end_time": "2025-06-19T18:20:55.127703Z",
     "start_time": "2025-06-19T18:20:47.698087Z"
    }
   },
   "cell_type": "code",
   "source": [
    "preproc_dense = ColumnTransformer(\n",
    "    [\n",
    "        (\"num\", StandardScaler(), num_cols),\n",
    "        (\"cat\", OneHotEncoder(drop=\"first\",\n",
    "                              handle_unknown=\"ignore\",\n",
    "                              sparse_output=False),  # ← use sparse_output\n",
    "         cat_cols)\n",
    "    ]\n",
    ")\n",
    "preproc_dense.fit(X_train)\n",
    "n_feat_dense = preproc_dense.transform(X_train).shape[1]\n",
    "max_M = min(20, n_feat_dense, X_train.shape[0] - 1)   # cap at 20 for speed\n",
    "\n",
    "kf   = KFold(n_splits=10, shuffle=True, random_state=42)\n",
    "mse_cv = []\n",
    "\n",
    "for m in range(1, max_M + 1):\n",
    "    pls_pipe = Pipeline([\n",
    "        (\"prep\", preproc_dense),\n",
    "        (\"pls\",  PLSRegression(n_components=m))\n",
    "    ])\n",
    "    mse = -cross_val_score(pls_pipe, X_train, y_train,\n",
    "                           cv=kf,\n",
    "                           scoring=\"neg_mean_squared_error\").mean()\n",
    "    mse_cv.append(mse)\n",
    "\n",
    "best_M = int(np.argmin(mse_cv)) + 1       # +1 because range starts at 1\n",
    "\n",
    "pls_final = Pipeline([\n",
    "    (\"prep\", preproc_dense),\n",
    "    (\"pls\",  PLSRegression(n_components=best_M))\n",
    "]).fit(X_train, y_train)\n",
    "\n",
    "pls_test_mse = mean_squared_error(y_test, pls_final.predict(X_test))\n",
    "\n",
    "print(f\"Optimal number of components (M) : {best_M}\")\n",
    "print(f\"Test-set MSE                     : {pls_test_mse:,.1f}\")\n"
   ],
   "id": "8acc78f48d12bfde",
   "outputs": [
    {
     "name": "stdout",
     "output_type": "stream",
     "text": [
      "Optimal number of components (M) : 2\n",
      "Test-set MSE                     : 1,954,397.9\n"
     ]
    }
   ],
   "execution_count": 10
  },
  {
   "cell_type": "markdown",
   "id": "39b0cb8a9e7bfeb7",
   "metadata": {},
   "source": [
    "---\n",
    "## Question 3\n",
    "*40 points*\n",
    "![Logo Python](22.png)"
   ]
  },
  {
   "metadata": {
    "ExecuteTime": {
     "end_time": "2025-06-19T18:41:50.317825Z",
     "start_time": "2025-06-19T18:41:40.164320Z"
    }
   },
   "cell_type": "code",
   "source": [
    "df = pd.read_csv(\"Default.csv\")          # path to your file\n",
    "df.columns = [c.lower() for c in df.columns]\n",
    "y = df[\"default\"].map({\"No\": 0, \"Yes\": 1}).astype(int)\n",
    "X = df.drop(columns=[\"default\"])\n",
    "\n",
    "# Split 70 % / 30 %\n",
    "X_train, X_test, y_train, y_test = train_test_split(\n",
    "    X, y, test_size=0.30, random_state=42, stratify=y\n",
    ")\n",
    "\n",
    "cat_cols = [c for c in X.columns if X[c].dtype == \"object\"]\n",
    "num_cols = [c for c in X.columns if c not in cat_cols]\n",
    "\n",
    "preproc = ColumnTransformer(\n",
    "    [\n",
    "        (\"num\", StandardScaler(), num_cols),\n",
    "        (\"cat\", OneHotEncoder(drop=\"first\", handle_unknown=\"ignore\"), cat_cols)\n",
    "    ]\n",
    ")\n",
    "\n",
    "X_train_np = preproc.fit_transform(X_train).astype(np.float32)\n",
    "X_test_np  = preproc.transform(X_test).astype(np.float32)\n",
    "\n",
    "n_inputs = X_train_np.shape[1]\n",
    "model = models.Sequential([\n",
    "    layers.Input(shape=(n_inputs,)),\n",
    "    layers.Dense(10, activation=\"relu\"),        # 1 hidden layer, 10 neurons\n",
    "    layers.Dropout(0.4),\n",
    "    layers.Dense(1, activation=\"sigmoid\")       # binary output\n",
    "])\n",
    "\n",
    "model.compile(\n",
    "    optimizer=optimizers.Adam(),\n",
    "    loss=losses.BinaryCrossentropy(),\n",
    "    metrics=[\"accuracy\"]\n",
    ")\n",
    "\n",
    "history = model.fit(\n",
    "    X_train_np, y_train,\n",
    "    epochs=30,\n",
    "    batch_size=128,\n",
    "    validation_split=0.20,\n",
    "    verbose=0                                 # make training quiet\n",
    ")\n",
    "\n",
    "y_test_pred_prob = model.predict(X_test_np).ravel()\n",
    "y_test_pred      = (y_test_pred_prob >= 0.5).astype(int)\n",
    "\n",
    "test_acc  = accuracy_score(y_test, y_test_pred)\n",
    "test_bce  = log_loss(y_test, y_test_pred_prob)\n",
    "\n",
    "print(f\"Test-set accuracy : {test_acc:.3f}\")\n",
    "print(f\"Test-set BCE loss : {test_bce:.3f}\")\n",
    "\n",
    "epochs = range(1, 31)\n",
    "\n",
    "plt.figure()\n",
    "plt.plot(epochs, history.history[\"loss\"], label=\"train loss\")\n",
    "plt.plot(epochs, history.history[\"val_loss\"], label=\"val loss\")\n",
    "plt.xlabel(\"Epoch\"); plt.ylabel(\"Binary-cross-entropy\")\n",
    "plt.title(\"Training / validation loss\")\n",
    "plt.legend(); plt.tight_layout()\n",
    "\n",
    "plt.figure()\n",
    "plt.plot(epochs, history.history[\"accuracy\"], label=\"train acc\")\n",
    "plt.plot(epochs, history.history[\"val_accuracy\"], label=\"val acc\")\n",
    "plt.xlabel(\"Epoch\"); plt.ylabel(\"Accuracy\")\n",
    "plt.title(\"Training / validation accuracy\")\n",
    "plt.legend(); plt.tight_layout()\n",
    "plt.show()\n"
   ],
   "id": "6099c2f7efb69a99",
   "outputs": [
    {
     "name": "stdout",
     "output_type": "stream",
     "text": [
      "\u001B[1m94/94\u001B[0m \u001B[32m━━━━━━━━━━━━━━━━━━━━\u001B[0m\u001B[37m\u001B[0m \u001B[1m0s\u001B[0m 3ms/step\n",
      "Test-set accuracy : 0.967\n",
      "Test-set BCE loss : 0.087\n"
     ]
    },
    {
     "data": {
      "text/plain": [
       "<Figure size 640x480 with 1 Axes>"
      ],
      "image/png": "[encoded data removed]"
     },
     "metadata": {},
     "output_type": "display_data"
    },
    {
     "data": {
      "text/plain": [
       "<Figure size 640x480 with 1 Axes>"
      ],
      "image/png": "[encoded data removed]"
     },
     "metadata": {},
     "output_type": "display_data"
    }
   ],
   "execution_count": 4
  }
 ],
 "metadata": {
  "kernelspec": {
   "display_name": "Python 3 (ipykernel)",
   "language": "python",
   "name": "python3"
  },
  "language_info": {
   "codemirror_mode": {
    "name": "ipython",
    "version": 3
   },
   "file_extension": ".py",
   "mimetype": "text/x-python",
   "name": "python",
   "nbconvert_exporter": "python",
   "pygments_lexer": "ipython3",
   "version": "3.9.6"
  }
 },
 "nbformat": 4,
 "nbformat_minor": 5
}
